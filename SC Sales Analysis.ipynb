{
 "cells": [
  {
   "cell_type": "code",
   "execution_count": null,
   "id": "ecde486a-a2cc-4564-aef0-d74701e2cb27",
   "metadata": {},
   "outputs": [],
   "source": [
    "import pandas as pd\n",
    "import numpy as np\n",
    "import re\n",
    "import seaborn as sns\n",
    "import matplotlib.pylab as plt\n",
    "\n",
    "data = pd.read_csv('novsales.csv')\n",
    "from datetime import datetime"
   ]
  },
  {
   "cell_type": "code",
   "execution_count": null,
   "id": "e7b9dc6f-00b1-41d4-969d-bd6833bfdec7",
   "metadata": {},
   "outputs": [],
   "source": [
    "data = data[data['Year'] != 'Customer Total:']\n",
    "\n",
    "\n",
    "def acc_num(row: str) -> str:\n",
    "    \"\"\"Retrieve account number from .Prd column.\n",
    "\n",
    "       A function to get customer number from the .Prd column.\n",
    "       :precondition: row is a string representing the name of the dataset\n",
    "       :precondition: row is a string in the dataset\n",
    "       :postcondition: when iterating through 'row' column, it returns the customer account number from the .Prd column if the\n",
    "                       data value is 'Customer Number'. Otherwise, it returns a NaN value later used for querying.\n",
    "       :postcondition: dataset is changed\n",
    "       :return: account number\n",
    "\n",
    "       \"\"\"\n",
    "    if row['Year'] == 'Customer Number:':\n",
    "        return row['Prd.']\n",
    "    else:\n",
    "        return np.NaN\n",
    "\n",
    "\n",
    "data['acc_num'] = data.apply(lambda row: acc_num(row), axis=1)  # sort\n"
   ]
  },
  {
   "cell_type": "code",
   "execution_count": null,
   "id": "19784e41-d687-4a66-b72a-59217c0e048d",
   "metadata": {},
   "outputs": [],
   "source": [
    "def acc_name(row: str) -> str:\n",
    "    \"\"\"Retrieve account name from .Prd column.\n",
    "\n",
    "      A function to get customer name from the .Prd column.\n",
    "      :precondition: row is a string representing the name of the dataset\n",
    "      :precondition: row is a string in the dataset\n",
    "      :postcondition: when iterating through 'row' column, it returns the customer account number from the .Prd column if the\n",
    "                      data value is 'Customer Number'. Otherwise, it returns a NaN value later used for querying.\n",
    "      :postcondition: dataset is changed\n",
    "      :return: account name\n",
    "\n",
    "    \"\"\"\n",
    "\n",
    "    if row['Year'] == 'Customer Number:':\n",
    "        return row['Date']\n",
    "    else:\n",
    "        return np.NaN\n",
    "\n",
    "\n",
    "data['Acc_name'] = data.apply(lambda row: acc_name(row), axis=1)  # sort"
   ]
  },
  {
   "cell_type": "code",
   "execution_count": null,
   "id": "3e0afdd0-b697-4127-bef9-d8ce4ca4a3c7",
   "metadata": {},
   "outputs": [],
   "source": [
    "def prod_name(row: str) -> str:\n",
    "    \"\"\"Retrieve product number from .Prd column.\n",
    "\n",
    "       A function to get product number from the .Prd column. This works on the fact that if the row value's fourth character\n",
    "       is a '/', then value in '.Prd' must be a product name\n",
    "       :precondition: row is a string representing the name of the dataset\n",
    "       :precondition: row is a string in the dataset\n",
    "       :postcondition: dataset is changed\n",
    "       :return: product name\n",
    "\n",
    "    \"\"\"\n",
    "    if str(row['Year'])[3:4] == '/':\n",
    "        return row['Prd.']\n",
    "    else:\n",
    "        return np.NaN\n",
    "\n",
    "\n",
    "data['Product_name'] = data.apply(lambda row: prod_name(row), axis=1)\n",
    "\n"
   ]
  },
  {
   "cell_type": "code",
   "execution_count": null,
   "id": "dfc168f1-51dc-4043-9154-30dd36c70b6d",
   "metadata": {},
   "outputs": [],
   "source": [
    "def prod_id(row: str) -> str:\n",
    "    \"\"\"Retrieve product number from .Prd column.\n",
    "\n",
    "       A function to get product number from the .Prd column. This works on the fact that if the row value's fourth character\n",
    "       is a '/', then value in 'Year' must be a product name\n",
    "    :precondition: row is a string representing the name of the dataset\n",
    "       :precondition: row is a string in the dataset\n",
    "       :postcondition: dataset is changed\n",
    "       :return: product id\n",
    "\n",
    "    \"\"\"\n",
    "    if str(row['Year'])[3:4] == '/':\n",
    "        return row['Year']\n",
    "    else:\n",
    "        return np.NaN\n",
    "\n",
    "\n",
    "data['Product_num'] = data.apply(lambda row: prod_id(row), axis=1)  # get product number"
   ]
  },
  {
   "cell_type": "code",
   "execution_count": null,
   "id": "14b65cee-5b22-4d70-b412-727e425a9d73",
   "metadata": {},
   "outputs": [],
   "source": [
    "data.iloc[:, [-1, -2, -3, -4]] = data.iloc[:, [-1, -2, -3, -4]].fillna(\n",
    "    method='ffill')  # forward fill na so we can filter by NA\n",
    "\n",
    "trial = data[data['Year'] == '2020']\n",
    "trial = trial.drop(['Year', 'Prd.', 'Type', 'Cost of Sales', 'Percent'], axis=1)  # unncessary columns\n"
   ]
  },
  {
   "cell_type": "code",
   "execution_count": null,
   "id": "a8c3fbe1-d34f-48bf-8c94-c2c848582997",
   "metadata": {},
   "outputs": [],
   "source": [
    "novsales = trial\n",
    "novsales = novsales.drop_duplicates()\n",
    "novrates = pd.read_csv('novrates.csv')  # scrate\n",
    "novusd = pd.read_csv('novusd.csv')  # usd transactions\n",
    "purecosts = pd.read_csv('puremastercost.csv')  # product costs\n",
    "\n",
    "purecosts = purecosts.drop_duplicates(['Product_id'], keep='last')"
   ]
  },
  {
   "cell_type": "code",
   "execution_count": null,
   "id": "edf1c898-22a9-4f20-a2ea-7255c8425d64",
   "metadata": {},
   "outputs": [],
   "source": [
    "import re\n",
    "\n",
    "cleaner = lambda k: float(re.sub(',', '', str(k)))\n",
    "\n",
    "novsales[['Sales Amount', 'Sales Returns']] = novsales[['Sales Amount', 'Sales Returns']].applymap(\n",
    "    cleaner)  # clean SA and SR into same format"
   ]
  },
  {
   "cell_type": "code",
   "execution_count": null,
   "id": "4594f983-623a-4591-a71b-1ddfe5680118",
   "metadata": {},
   "outputs": [],
   "source": [
    "novrates['Date'] = pd.to_datetime(novrates['Date'], format='%d/%m/%Y')  # parse Date into date format\n",
    "novsales['Date'] = pd.to_datetime(novsales['Date'], format='%d/%m/%Y')  # parse Date into date format\n",
    "\n",
    "novsales['Location'] = novsales['Location'].replace({'118ENT': 'RET118'})  # rename retail location\n",
    "novusd['Location'] = novusd['Location'].replace({'BYO': 'SCBYO'})  # rename Bulawayo location\n",
    "\n",
    "novusd['Currency'] = 'USD'"
   ]
  },
  {
   "cell_type": "code",
   "execution_count": null,
   "id": "e638e541-5dc9-49b2-86b4-1a5c12ab61d5",
   "metadata": {},
   "outputs": [],
   "source": [
    "serp = lambda i: str(i[7:]) if i[:2] == 'IN' else str(i[9:])  # function to separate credit notes and invoices\n",
    "\n",
    "novsales['Transaction Number'] = novsales['Transaction Number'].map(serp)\n",
    "\n",
    "novsales['Transaction Number'] = novsales['Transaction Number'].astype('int64')\n",
    "\n",
    "novusd = novusd.drop_duplicates(['Inv_num'])\n",
    "\n",
    "novsales = pd.merge(novsales, novusd,\n",
    "                    how='left',\n",
    "                    left_on='Transaction Number', right_on='Inv_num')  # allsales with usd invoices\n",
    "\n",
    "novsales = novsales.drop_duplicates()"
   ]
  },
  {
   "cell_type": "code",
   "execution_count": null,
   "id": "d7588019-828e-4c23-be84-8b0b9de5b040",
   "metadata": {},
   "outputs": [],
   "source": [
    "novsales = novsales.drop(['Date_y', 'Location_y', 'Acc_num', 'Inv_num'], axis='columns')\n",
    "\n",
    "currency = lambda z: 'RTGS' if z != 'USD' else z\n",
    "novsales['Currency'] = novsales['Currency'].map(currency)\n",
    "novsales['Currency'] = novsales['Currency'].astype('category')"
   ]
  },
  {
   "cell_type": "code",
   "execution_count": null,
   "id": "872ccc34-9b79-4c31-acea-45f7fbab3cd6",
   "metadata": {},
   "outputs": [],
   "source": [
    "novsales = pd.merge(novsales, novrates, how='left',  # get novsales wtih respective rates of the day\n",
    "                    left_on='Date_x',\n",
    "                    right_on='Date')\n",
    "\n",
    "novsales = pd.merge(novsales, purecosts, how='left',\n",
    "                    left_on='Product_num',\n",
    "                    right_on='Product_id')  # merge with product costs\n",
    "\n",
    "novsales = novsales.drop_duplicates()"
   ]
  },
  {
   "cell_type": "code",
   "execution_count": null,
   "id": "dc6f63ba-15e7-48db-9393-979cf14b713a",
   "metadata": {},
   "outputs": [],
   "source": [
    "def profit(row: str) -> float:\n",
    "    \"\"\"Calculate Profit.\n",
    "\n",
    "    A function to calculate profit based on currency.\n",
    "\n",
    "    :param row: a string\n",
    "    :precondition: row is a string representing the name of the dataset\n",
    "    :postcondition: calculates relative profit based on currency (USD or Zimbabwe dollar)\n",
    "    :return: a floating point value\n",
    "\n",
    "    \"\"\"\n",
    "    if row['Currency'] == 'USD':\n",
    "        return row['usd'] / 1.145\n",
    "    else:\n",
    "        return row['Sales Amount'] / row['Scrate']  # get net income after value added tax (VAT)\n",
    "\n",
    "\n",
    "novsales['Income'] = 0\n",
    "\n",
    "novsales['Income'] = novsales.apply(lambda row: profit(row), axis=1)"
   ]
  },
  {
   "cell_type": "code",
   "execution_count": null,
   "id": "2073924f-b201-4d68-baf1-67748094ea63",
   "metadata": {},
   "outputs": [],
   "source": [
    "grouped_inv = novsales['Sales Amount'].groupby(\n",
    "    novsales['Transaction Number']).sum()\n",
    "\n",
    "# Usd invoices report the total amount for each product, hence,\n",
    "# need actual amount for specific product\n",
    "\n",
    "grouped_inv = pd.DataFrame(grouped_inv)\n",
    "\n",
    "grouped_inv = grouped_inv.rename(columns={'Sales Amount': 'Totals'})\n",
    "\n",
    "# Merge with grouped invoices\n",
    "novsales = pd.merge(novsales, grouped_inv,\n",
    "                    how='left',\n",
    "                    left_on='Transaction Number',\n",
    "                    right_index=True)\n",
    "\n",
    "novsales = novsales.drop(['Product_id'], axis=1)"
   ]
  },
  {
   "cell_type": "code",
   "execution_count": null,
   "id": "10e8a246-a561-46fe-93ec-3e3ccee2d69a",
   "metadata": {},
   "outputs": [],
   "source": [
    "def productinc(a):\n",
    "    if a['Currency'] == 'USD':\n",
    "        return (a['Sales Amount'] / a['Totals']) * a['Income']\n",
    "    else:\n",
    "        return a['Income']\n",
    "\n",
    "\n",
    "novsales['individual_income'] = 0\n",
    "novsales['individual_income'] = novsales.apply(lambda a: productinc(a), axis=1)\n"
   ]
  },
  {
   "cell_type": "code",
   "execution_count": null,
   "id": "f7fcaa42-3e18-4dc3-b64a-c6281660c99a",
   "metadata": {},
   "outputs": [],
   "source": [
    "def real_cost(row: str) -> float:\n",
    "    \"\"\"Get real cost.\n",
    "\n",
    "    A function to get real cost of sale for products. If product is labour, then real cost is 0. Otherwise, real_cost\n",
    "    is returned.\n",
    "\n",
    "    :param row: a string\n",
    "    :precondition: row is a string representing the name of the dataset\n",
    "    :postcondition: dataset is changed\n",
    "    :return: a boolean value\n",
    "    \"\"\"\n",
    "    if str(row['Product_num'])[:3] == 'LAB':\n",
    "        row['real_cost'] = 0\n",
    "        return row['real_cost']\n",
    "    else:\n",
    "        return row['real_cost']  # cost of labour = 0 (actual costs is salary)"
   ]
  },
  {
   "cell_type": "code",
   "execution_count": null,
   "id": "69235369-8836-4102-8ec5-d8ba579afc9f",
   "metadata": {},
   "outputs": [],
   "source": [
    "def credit_loss(row: str) -> float:\n",
    "    \"\"\"Calculate credit loss.\n",
    "\n",
    "    A function to calculate loss on credit notes. All credit notes' transaction numbers  have a length of < 5. Hence,\n",
    "    if credit note is identified, credit note is divided by current Solution Centre rate of exchange to get loss in\n",
    "    USD terms.\n",
    "\n",
    "    :param row: a string\n",
    "    :precondition: row is a string representing the dataset\n",
    "    :postcondition: dataset is changed\n",
    "    :return: a float\n",
    "    \"\"\"\n",
    "    if len(str(row['Transaction Number'])) < 5:\n",
    "        row['individual_income'] = (row['Sales Returns'] / row['Scrate']) * -1\n",
    "        return row['individual_income']\n",
    "    else:\n",
    "        return row['individual_income']  # negative income for credit notes"
   ]
  },
  {
   "cell_type": "code",
   "execution_count": null,
   "id": "336c0c89-581b-4210-b09f-0b3cbc2d5ccc",
   "metadata": {},
   "outputs": [],
   "source": [
    "novsales['individual_income'] = novsales.apply(lambda row: credit_loss(row), axis=1)\n",
    "\n",
    "novsales['real_cost'] = novsales.apply(lambda row: real_cost(row), axis=1)\n",
    "\n",
    "novsales['Gross Profit'] = novsales['individual_income'] - novsales['real_cost']\n"
   ]
  },
  {
   "cell_type": "code",
   "execution_count": null,
   "id": "abd5afd0-a582-499d-9576-de9d01458a22",
   "metadata": {},
   "outputs": [],
   "source": [
    "def real_gp(row: str) -> float:\n",
    "    \"\"\"Get real Gross Profit.\n",
    "\n",
    "    A function to Get the real gross profit of products. This function takes note that Credit notes have a Gross Profit\n",
    "    of 0.\n",
    "\n",
    "    :param row: a string\n",
    "    :precondition: row is a string representing the name of the dataset\n",
    "    :return: a float\n",
    "    \"\"\"\n",
    "    if len(str(row['Transaction Number'])) < 5:\n",
    "        row['Gross Profit'] = 0\n",
    "        return row['Gross Profit']\n",
    "    else:\n",
    "        return row['Gross Profit']\n",
    "\n",
    "\n",
    "novsales['Real_Gross_Profit'] = 0\n",
    "novsales['Real_Gross_Profit'] = novsales.apply(lambda row: real_gp(row), axis=1)\n"
   ]
  },
  {
   "cell_type": "code",
   "execution_count": null,
   "id": "04a9c6d9-69c0-4ebc-afe1-2e098cbd4a71",
   "metadata": {},
   "outputs": [],
   "source": [
    "novsales = novsales.drop(['Totals', 'Date', 'Gross Profit'], axis=1)\n",
    "\n",
    "zero_q = lambda i: i.replace('', np.NaN)\n",
    "\n",
    "novsales['Quantity'] = novsales['Quantity'].fillna(0)\n",
    "\n",
    "novsales = novsales[novsales['Quantity'] != 0]  # remove invoices with no qnty\n",
    "\n"
   ]
  },
  {
   "cell_type": "code",
   "execution_count": null,
   "id": "7d8b52f6-41da-4ded-a2f8-d28b34f7bc07",
   "metadata": {},
   "outputs": [],
   "source": [
    "def vat(row: str) -> float:\n",
    "    \"\"\"Calculate value added tax (vat).\n",
    "\n",
    "    A function to calculate vat based on currency.\n",
    "\n",
    "    :param row: a string\n",
    "    :precondition: row is a string representing the name of the dataset\n",
    "    :return: a float\n",
    "\n",
    "    \"\"\"\n",
    "    if row['Currency'] == 'USD':\n",
    "        return (row['individual_income'] * 1.145) - row['individual_income']\n",
    "    else:\n",
    "        return (row['Sales Amount'] * 1.145) - row['Sales Amount']  # calculate VAT\n"
   ]
  },
  {
   "cell_type": "code",
   "execution_count": null,
   "id": "97f07a96-b643-4312-84d4-4ef31d8d2fe2",
   "metadata": {},
   "outputs": [],
   "source": [
    "novsales['VAT'] = 0\n",
    "\n",
    "novsales['VAT'] = novsales.apply(lambda row: vat(row), axis=1)\n",
    "\n",
    "novsales.to_csv('novsalesfinal.csv', index=False)\n",
    "\n",
    "novsales.individual_income.sum()\n",
    "novsales.Real_Gross_Profit.sum()\n",
    "\n",
    "novsales.groupby('Currency')['individual_income'].sum().sort_values(ascending=False)  # income by currency\n",
    "\n",
    "location = novsales.groupby('Location_x')['individual_income'].sum().sort_values(\n",
    "    ascending=False).reset_index()  # sorted income by location\n",
    "\n",
    "sns.stripplot(x='Location_x', y='individual_income', data=location,\n",
    "              hue='Location_x')\n"
   ]
  },
  {
   "cell_type": "code",
   "execution_count": null,
   "id": "ecd6e4da-dded-40b0-ab91-aac7a74fbde9",
   "metadata": {},
   "outputs": [],
   "source": [
    "sns.countplot(x='Location_x', data=novsales)  # number of transactions\n",
    "\n",
    "novsales.groupby('Salesprsn')['individual_income'].sum().sort_values(ascending=False)\n",
    "\n",
    "duplicates = novsales[novsales.duplicated()]\n",
    "\n",
    "novsales.groupby('Location_x')['Real_Gross_Profit'].sum().sort_values(ascending=False)\n",
    "\n",
    "no_cost = novsales[novsales['real_cost'].isnull()]\n",
    "\n",
    "no_cost = pd.DataFrame(no_cost.groupby('Product_num')['real_cost'].size())"
   ]
  },
  {
   "cell_type": "code",
   "execution_count": null,
   "id": "cd568d49-eb5d-4083-a9d9-4e73652f90c8",
   "metadata": {},
   "outputs": [],
   "source": [
    "# products without a cost, confirm with producurement for cost-price\n",
    "no_cost.to_csv('missingcosts.csv', index=True)\n",
    "\n",
    "day_income = novsales.groupby('Date_x')['individual_income'].sum().reset_index()  # Income by day\n",
    "\n",
    "day_income.Date_x = day_income.Date_x.map(lambda i: i.strftime('%d'))\n",
    "\n",
    "sns.set_style('darkgrid')\n",
    "sns.lineplot(x='Date_x', y='individual_income',\n",
    "             markers=True,\n",
    "             dashes=False, data=day_income)\n",
    "plt.xticks(rotation=45)\n",
    "\n",
    "# PROFIT BY LOCATION\n",
    "profit = novsales.groupby('Location_x')['Real_Gross_Profit'].sum().reset_index()\n"
   ]
  },
  {
   "cell_type": "code",
   "execution_count": null,
   "id": "73d63504-f84a-4962-be4e-a6a0edde9e4e",
   "metadata": {},
   "outputs": [],
   "source": []
  }
 ],
 "metadata": {
  "kernelspec": {
   "display_name": "Python 3",
   "language": "python",
   "name": "python3"
  },
  "language_info": {
   "codemirror_mode": {
    "name": "ipython",
    "version": 3
   },
   "file_extension": ".py",
   "mimetype": "text/x-python",
   "name": "python",
   "nbconvert_exporter": "python",
   "pygments_lexer": "ipython3",
   "version": "3.7.8"
  }
 },
 "nbformat": 4,
 "nbformat_minor": 5
}
